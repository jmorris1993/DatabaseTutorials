{
 "metadata": {
  "name": ""
 },
 "nbformat": 3,
 "nbformat_minor": 0,
 "worksheets": [
  {
   "cells": [
    {
     "cell_type": "markdown",
     "metadata": {},
     "source": [
      "## SQL Tutorial"
     ]
    },
    {
     "cell_type": "markdown",
     "metadata": {},
     "source": [
      "Make sure you have followed the instructions [here](http://zetcode.com/db/mysqlpython/) to install mysql-server as well as the Python module MySQLdb.  Additionally, you should follow the instructions to setup a new SQL user called testuser with a password of 'test623'.  If you don't know what the mysql-server root password is, you can follow [these instructions](http://terokarvinen.com/2012/change-mysql-password-dpkg-reconfigure-mysql-server-5-1-ubuntu-debian-error-1045) to remedy the issue.  To make sure everything is good, try this Python code fragment that connects to the database you have configured and prints out the version of mysql server that you have installed."
     ]
    },
    {
     "cell_type": "code",
     "collapsed": false,
     "input": [
      "import MySQLdb as mdb\n",
      "\n",
      "try:\n",
      "    con = mdb.connect('localhost', 'testuser', 'test623', 'testdb');\n",
      "    cur = con.cursor()\n",
      "    cur.execute(\"SELECT VERSION()\")\n",
      "    ver = cur.fetchone()    \n",
      "    print \"Database version : %s \" % ver\n",
      "except mdb.Error, e:\n",
      "    print \"Error %d: %s\" % (e.args[0],e.args[1])"
     ],
     "language": "python",
     "metadata": {},
     "outputs": []
    },
    {
     "cell_type": "markdown",
     "metadata": {},
     "source": [
      "Next, let's list the tables that are currently in the database.  If you have already gone through the tutorial, you will see a table called \"Writers\"."
     ]
    },
    {
     "cell_type": "code",
     "collapsed": false,
     "input": [
      "cur.execute('show tables')\n",
      "print cur.fetchall()"
     ],
     "language": "python",
     "metadata": {},
     "outputs": []
    },
    {
     "cell_type": "markdown",
     "metadata": {},
     "source": [
      "If you haven't done the tutorial, the following code creates a table called Writers which consists of two fields: a unique integer identifier and the name of a writer."
     ]
    },
    {
     "cell_type": "code",
     "collapsed": false,
     "input": [
      "with con:\n",
      "    cur = con.cursor()\n",
      "    cur.execute(\"DROP TABLE IF EXISTS Writers\")\n",
      "    cur.execute(\"CREATE TABLE Writers(Id INT PRIMARY KEY AUTO_INCREMENT, \\\n",
      "                 Name VARCHAR(25))\")\n",
      "    cur.execute(\"INSERT INTO Writers(Name) VALUES('Jack London')\")\n",
      "    cur.execute(\"INSERT INTO Writers(Name) VALUES('Honore de Balzac')\")\n",
      "    cur.execute(\"INSERT INTO Writers(Name) VALUES('Lion Feuchtwanger')\")\n",
      "    cur.execute(\"INSERT INTO Writers(Name) VALUES('Emile Zola')\")\n",
      "    cur.execute(\"INSERT INTO Writers(Name) VALUES('Truman Capote')\")"
     ],
     "language": "python",
     "metadata": {},
     "outputs": []
    },
    {
     "cell_type": "markdown",
     "metadata": {},
     "source": [
      "Next, let's read the data from the database."
     ]
    },
    {
     "cell_type": "code",
     "collapsed": false,
     "input": [
      "with con: \n",
      "    cur = con.cursor()\n",
      "    cur.execute(\"SELECT * FROM Writers\")\n",
      "\n",
      "    rows = cur.fetchall()\n",
      "    for row in rows:\n",
      "        print row"
     ],
     "language": "python",
     "metadata": {},
     "outputs": []
    },
    {
     "cell_type": "markdown",
     "metadata": {},
     "source": [
      "Instead of using a tuple to represent each row, we can ask that MySQLdb return a Python dictionary."
     ]
    },
    {
     "cell_type": "code",
     "collapsed": false,
     "input": [
      "with con:\n",
      "    cur = con.cursor(mdb.cursors.DictCursor)\n",
      "    cur.execute(\"SELECT * FROM Writers LIMIT 4\")\n",
      "\n",
      "    rows = cur.fetchall()\n",
      "\n",
      "    for row in rows:\n",
      "        print row[\"Id\"], row[\"Name\"]"
     ],
     "language": "python",
     "metadata": {},
     "outputs": []
    },
    {
     "cell_type": "markdown",
     "metadata": {},
     "source": [
      "We can also select a subset of rows based on a search condition."
     ]
    },
    {
     "cell_type": "code",
     "collapsed": false,
     "input": [
      "with con:\n",
      "    cur = con.cursor()\n",
      "    cur.execute(\"SELECT * FROM Writers WHERE Name = 'Jack London'\")\n",
      "    rows = cur.fetchall()\n",
      "    print rows"
     ],
     "language": "python",
     "metadata": {},
     "outputs": []
    },
    {
     "cell_type": "markdown",
     "metadata": {},
     "source": [
      "As a more interesting example, I have created a simple Python wrapper around a database of Academy Award nominations."
     ]
    },
    {
     "cell_type": "code",
     "collapsed": false,
     "input": [
      "from academy_awards import get_nominations\n",
      "\n",
      "academy_award_db = get_nominations()\n",
      "print academy_award_db[0]"
     ],
     "language": "python",
     "metadata": {},
     "outputs": []
    },
    {
     "cell_type": "markdown",
     "metadata": {},
     "source": [
      "Take a minute and decide how you translate from the academy award data as stored as a list of Python dictionaries to an SQL table.  Next, choose a subset of the variables stored with each nomination and insert them into an SQL database.  To demonstrate that you did this properly, execute a query against your new table and print out some of the results."
     ]
    },
    {
     "cell_type": "code",
     "collapsed": false,
     "input": [],
     "language": "python",
     "metadata": {},
     "outputs": []
    },
    {
     "cell_type": "markdown",
     "metadata": {},
     "source": [
      "If you thought what you just did was tedious... you're right!  Luckily there is a better way.  Next, we will see how to use something called an Object Relational Model (an \"ORM\" for short) to automate the process you just went through.  First install sqlalchemy by executing the command:\n",
      "\n",
      "`$ sudo apt-get install python-sqlalchemy`\n",
      "\n",
      "Next, we will go through an example of putting our data into a database using [SQLAlchemy](http://www.sqlalchemy.org/).  First, we create a class that represents our table.  Instances of that class will be rows in our table and attributes will correspond to columns."
     ]
    },
    {
     "cell_type": "code",
     "collapsed": false,
     "input": [
      "from sqlalchemy import create_engine\n",
      "from sqlalchemy.ext.declarative import declarative_base\n",
      "from sqlalchemy import Column, Integer, String, Boolean, Unicode\n",
      "\n",
      "engine = create_engine('sqlite:///:memory:', echo=True)\n",
      "Base = declarative_base()\n",
      "\n",
      "class Nomination(Base):\n",
      "    __tablename__ = 'nominations'\n",
      "    id = Column(Integer, primary_key=True)\n",
      "    year = Column(Integer)\n",
      "    category = Column(Unicode)\n",
      "    nominee = Column(Unicode)\n",
      "    additional_info = Column(Unicode)\n",
      "    won = Column(Boolean)\n",
      "\n",
      "Nomination.__table__"
     ],
     "language": "python",
     "metadata": {},
     "outputs": []
    },
    {
     "cell_type": "markdown",
     "metadata": {},
     "source": [
      "Next, we create an instance of our class and insert it into the table."
     ]
    },
    {
     "cell_type": "code",
     "collapsed": false,
     "input": [
      "from sqlalchemy.orm import sessionmaker\n",
      "\n",
      "Base.metadata.create_all(engine)\n",
      "Session = sessionmaker(bind=engine)\n",
      "session = Session()\n",
      "my_nom = Nomination(year=2010,\n",
      "                    category='Actor -- Leading Role',\n",
      "                    nominee='Javier Bardem',\n",
      "                    additional_info=\"Biutiful {'Uxbal'}\",\n",
      "                    won=False)\n",
      "session.add(my_nom)"
     ],
     "language": "python",
     "metadata": {},
     "outputs": []
    },
    {
     "cell_type": "markdown",
     "metadata": {},
     "source": [
      "Let's verify that we have done so by listing all of the results."
     ]
    },
    {
     "cell_type": "code",
     "collapsed": false,
     "input": [
      "for instance in session.query(Nomination).order_by(Nomination.id): \n",
      "    print instance.year, instance.nominee"
     ],
     "language": "python",
     "metadata": {},
     "outputs": []
    },
    {
     "cell_type": "markdown",
     "metadata": {},
     "source": [
      "Next, we can simply loop through all of our academy award nominations and add them to our database."
     ]
    },
    {
     "cell_type": "code",
     "collapsed": false,
     "input": [
      "for nom in academy_award_db:\n",
      "    my_nom = Nomination(year=int(nom[0][1]),\n",
      "                        category=nom[1][1],\n",
      "                        nominee=nom[2][1],\n",
      "                        additional_info=nom[3][1],\n",
      "                        won=(nom[4][1]=='YES'))\n",
      "    session.add(my_nom)"
     ],
     "language": "python",
     "metadata": {},
     "outputs": []
    },
    {
     "cell_type": "markdown",
     "metadata": {},
     "source": [
      "Finally, let's query our database for all of the academy award winners."
     ]
    },
    {
     "cell_type": "code",
     "collapsed": false,
     "input": [
      "for instance in session.query(Nomination).filter_by(won=True): \n",
      "    print instance.year, instance.nominee"
     ],
     "language": "python",
     "metadata": {},
     "outputs": []
    }
   ],
   "metadata": {}
  }
 ]
}