{
 "metadata": {
  "name": ""
 },
 "nbformat": 3,
 "nbformat_minor": 0,
 "worksheets": [
  {
   "cells": [
    {
     "cell_type": "markdown",
     "metadata": {},
     "source": [
      "## SQL Tutorial"
     ]
    },
    {
     "cell_type": "markdown",
     "metadata": {},
     "source": [
      "Make sure you have followed the instructions [here](http://zetcode.com/db/mysqlpython/) to install mysql-server as well as the Python module MySQLdb.  Additionally, you should follow the instructions to setup a new SQL user called testuser with a password of 'test623'.  If you don't know what the mysql-server root password is, you can follow [these instructions](http://terokarvinen.com/2012/change-mysql-password-dpkg-reconfigure-mysql-server-5-1-ubuntu-debian-error-1045) to remedy the issue.  To make sure everything is good, try this Python code fragment that connects to the database you have configured and prints out the version of mysql server that you have installed."
     ]
    },
    {
     "cell_type": "code",
     "collapsed": false,
     "input": [
      "import MySQLdb as mdb\n",
      "\n",
      "try:\n",
      "    con = mdb.connect('localhost', 'testuser', 'test623', 'testdb');\n",
      "    cur = con.cursor()\n",
      "    cur.execute(\"SELECT VERSION()\")\n",
      "    ver = cur.fetchone()    \n",
      "    print \"Database version : %s \" % ver\n",
      "except mdb.Error, e:\n",
      "    print \"Error %d: %s\" % (e.args[0],e.args[1])"
     ],
     "language": "python",
     "metadata": {},
     "outputs": [
      {
       "output_type": "stream",
       "stream": "stdout",
       "text": [
        "Database version : 5.5.41-0ubuntu0.14.04.1 \n"
       ]
      }
     ],
     "prompt_number": 2
    },
    {
     "cell_type": "markdown",
     "metadata": {},
     "source": [
      "Next, let's list the tables that are currently in the database.  If you have already gone through the tutorial, you will see a table called \"Writers\"."
     ]
    },
    {
     "cell_type": "code",
     "collapsed": false,
     "input": [
      "cur.execute('show tables')\n",
      "print cur.fetchall()"
     ],
     "language": "python",
     "metadata": {},
     "outputs": [
      {
       "output_type": "stream",
       "stream": "stdout",
       "text": [
        "(('Movies',), ('Writers',))\n"
       ]
      }
     ],
     "prompt_number": 7
    },
    {
     "cell_type": "markdown",
     "metadata": {},
     "source": [
      "If you haven't done the tutorial, the following code creates a table called Writers which consists of two fields: a unique integer identifier and the name of a writer."
     ]
    },
    {
     "cell_type": "code",
     "collapsed": false,
     "input": [
      "with con:\n",
      "    cur = con.cursor()\n",
      "    cur.execute(\"DROP TABLE IF EXISTS Writers\")\n",
      "    cur.execute(\"CREATE TABLE Writers(Id INT PRIMARY KEY AUTO_INCREMENT, \\\n",
      "                 Name VARCHAR(25))\")\n",
      "    cur.execute(\"INSERT INTO Writers(Name) VALUES('Jack London')\")\n",
      "    cur.execute(\"INSERT INTO Writers(Name) VALUES('Honore de Balzac')\")\n",
      "    cur.execute(\"INSERT INTO Writers(Name) VALUES('Lion Feuchtwanger')\")\n",
      "    cur.execute(\"INSERT INTO Writers(Name) VALUES('Emile Zola')\")\n",
      "    cur.execute(\"INSERT INTO Writers(Name) VALUES('Truman Capote')\")"
     ],
     "language": "python",
     "metadata": {},
     "outputs": [],
     "prompt_number": 10
    },
    {
     "cell_type": "markdown",
     "metadata": {},
     "source": [
      "Next, let's read the data from the database."
     ]
    },
    {
     "cell_type": "code",
     "collapsed": false,
     "input": [
      "with con: \n",
      "    cur = con.cursor()\n",
      "    cur.execute(\"SELECT * FROM Writers\")\n",
      "\n",
      "    rows = cur.fetchall()\n",
      "    for row in rows:\n",
      "        print row"
     ],
     "language": "python",
     "metadata": {},
     "outputs": [
      {
       "output_type": "stream",
       "stream": "stdout",
       "text": [
        "(1L, 'Jack London')\n",
        "(2L, 'Honore de Balzac')\n",
        "(3L, 'Lion Feuchtwanger')\n",
        "(4L, 'Emile Zola')\n",
        "(5L, 'Truman Capote')\n"
       ]
      }
     ],
     "prompt_number": 11
    },
    {
     "cell_type": "markdown",
     "metadata": {},
     "source": [
      "Instead of using a tuple to represent each row, we can ask that MySQLdb return a Python dictionary."
     ]
    },
    {
     "cell_type": "code",
     "collapsed": false,
     "input": [
      "with con:\n",
      "    cur = con.cursor(mdb.cursors.DictCursor)\n",
      "    cur.execute(\"SELECT * FROM Writers LIMIT 4\")\n",
      "\n",
      "    rows = cur.fetchall()\n",
      "\n",
      "    for row in rows:\n",
      "        print row[\"Id\"], row[\"Name\"]"
     ],
     "language": "python",
     "metadata": {},
     "outputs": [
      {
       "output_type": "stream",
       "stream": "stdout",
       "text": [
        "1 Jack London\n",
        "2 Honore de Balzac\n",
        "3 Lion Feuchtwanger\n",
        "4 Emile Zola\n"
       ]
      }
     ],
     "prompt_number": 12
    },
    {
     "cell_type": "markdown",
     "metadata": {},
     "source": [
      "We can also select a subset of rows based on a search condition."
     ]
    },
    {
     "cell_type": "code",
     "collapsed": false,
     "input": [
      "with con:\n",
      "    cur = con.cursor()\n",
      "    cur.execute(\"SELECT * FROM Writers WHERE Name = 'Jack London'\")\n",
      "    rows = cur.fetchall()\n",
      "    print rows"
     ],
     "language": "python",
     "metadata": {},
     "outputs": [
      {
       "output_type": "stream",
       "stream": "stdout",
       "text": [
        "((1L, 'Jack London'),)\n"
       ]
      }
     ],
     "prompt_number": 16
    },
    {
     "cell_type": "markdown",
     "metadata": {},
     "source": [
      "As a more interesting example, I have created a simple Python wrapper around a database of Academy Award nominations."
     ]
    },
    {
     "cell_type": "code",
     "collapsed": false,
     "input": [
      "from academy_awards import get_nominations\n",
      "\n",
      "academy_award_db = get_nominations()\n",
      "print academy_award_db[0]"
     ],
     "language": "python",
     "metadata": {},
     "outputs": [
      {
       "output_type": "stream",
       "stream": "stdout",
       "text": [
        "[('Year', '2010 (83rd)'), ('Category', 'Actor -- Leading Role'), ('Nominee', 'Javier Bardem'), ('Additional Info', \"Biutiful {'Uxbal'}\"), ('Won?', 'NO')]\n"
       ]
      }
     ],
     "prompt_number": 18
    },
    {
     "cell_type": "markdown",
     "metadata": {},
     "source": [
      "Take a minute and decide how you translate from the academy award data as stored as a list of Python dictionaries to an SQL table.  Next, choose a subset of the variables stored with each nomination and insert them into an SQL database.  To demonstrate that you did this properly, execute a query against your new table and print out some of the results."
     ]
    },
    {
     "cell_type": "code",
     "collapsed": false,
     "input": [],
     "language": "python",
     "metadata": {},
     "outputs": [],
     "prompt_number": 19
    },
    {
     "cell_type": "markdown",
     "metadata": {},
     "source": [
      "If you thought what you just did was tedious... you're right!  Luckily there is a better way.  Next, we will see how to use something called an Object Relational Model (an \"ORM\" for short) to automate the process you just went through.  First install sqlalchemy by doing TODO"
     ]
    },
    {
     "cell_type": "code",
     "collapsed": false,
     "input": [
      "from sqlalchemy import create_engine\n",
      "from sqlalchemy.ext.declarative import declarative_base\n",
      "from sqlalchemy import Column, Integer, String\n",
      "\n",
      "engine = create_engine('sqlite:///:memory:', echo=True)\n",
      "Base = declarative_base()\n",
      "\n",
      "class Nomination(Base):\n",
      "    __tablename__ = 'nominations'\n",
      "    id = Column(Integer, primary_key=True)\n",
      "    name = Column(String)\n",
      "    fullname = Column(String)\n",
      "    password = Column(String)\n",
      "\n",
      "Nomination.__table__"
     ],
     "language": "python",
     "metadata": {},
     "outputs": [
      {
       "metadata": {},
       "output_type": "pyout",
       "prompt_number": 30,
       "text": [
        "Table('nominations', MetaData(bind=None), Column('id', Integer(), table=<nominations>, primary_key=True, nullable=False), Column('name', String(), table=<nominations>), Column('fullname', String(), table=<nominations>), Column('password', String(), table=<nominations>), schema=None)"
       ]
      }
     ],
     "prompt_number": 30
    },
    {
     "cell_type": "code",
     "collapsed": false,
     "input": [
      "Base.metadata.create_all(engine)"
     ],
     "language": "python",
     "metadata": {},
     "outputs": [
      {
       "output_type": "stream",
       "stream": "stdout",
       "text": [
        "2015-04-16 20:46:13,517 INFO sqlalchemy.engine.base.Engine PRAGMA table_info(\"nominations\")\n"
       ]
      },
      {
       "output_type": "stream",
       "stream": "stderr",
       "text": [
        "INFO:sqlalchemy.engine.base.Engine:PRAGMA table_info(\"nominations\")\n"
       ]
      },
      {
       "output_type": "stream",
       "stream": "stdout",
       "text": [
        "2015-04-16 20:46:13,518 INFO sqlalchemy.engine.base.Engine ()\n"
       ]
      },
      {
       "output_type": "stream",
       "stream": "stderr",
       "text": [
        "INFO:sqlalchemy.engine.base.Engine:()\n"
       ]
      },
      {
       "output_type": "stream",
       "stream": "stdout",
       "text": [
        "2015-04-16 20:46:13,519 INFO sqlalchemy.engine.base.Engine \n",
        "CREATE TABLE nominations (\n",
        "\tid INTEGER NOT NULL, \n",
        "\tname VARCHAR, \n",
        "\tfullname VARCHAR, \n",
        "\tpassword VARCHAR, \n",
        "\tPRIMARY KEY (id)\n",
        ")\n",
        "\n",
        "\n"
       ]
      },
      {
       "output_type": "stream",
       "stream": "stderr",
       "text": [
        "INFO:sqlalchemy.engine.base.Engine:\n",
        "CREATE TABLE nominations (\n",
        "\tid INTEGER NOT NULL, \n",
        "\tname VARCHAR, \n",
        "\tfullname VARCHAR, \n",
        "\tpassword VARCHAR, \n",
        "\tPRIMARY KEY (id)\n",
        ")\n",
        "\n",
        "\n"
       ]
      },
      {
       "output_type": "stream",
       "stream": "stdout",
       "text": [
        "2015-04-16 20:46:13,519 INFO sqlalchemy.engine.base.Engine ()\n"
       ]
      },
      {
       "output_type": "stream",
       "stream": "stderr",
       "text": [
        "INFO:sqlalchemy.engine.base.Engine:()\n"
       ]
      },
      {
       "output_type": "stream",
       "stream": "stdout",
       "text": [
        "2015-04-16 20:46:13,520 INFO sqlalchemy.engine.base.Engine COMMIT\n"
       ]
      },
      {
       "output_type": "stream",
       "stream": "stderr",
       "text": [
        "INFO:sqlalchemy.engine.base.Engine:COMMIT\n"
       ]
      }
     ],
     "prompt_number": 31
    },
    {
     "cell_type": "code",
     "collapsed": false,
     "input": [
      "from sqlalchemy.orm import sessionmaker\n",
      "Session = sessionmaker(bind=engine)\n",
      "session = Session()\n",
      "my_nom = Nomination(name='Paul Ruvolo', fullname='Ed Jones', password='edspassword')\n",
      "session.add(my_nom)"
     ],
     "language": "python",
     "metadata": {},
     "outputs": [],
     "prompt_number": 32
    },
    {
     "cell_type": "code",
     "collapsed": false,
     "input": [
      "for instance in session.query(Nomination).order_by(Nomination.id): \n",
      "    print instance.name, instance.fullname"
     ],
     "language": "python",
     "metadata": {},
     "outputs": [
      {
       "output_type": "stream",
       "stream": "stdout",
       "text": [
        "2015-04-16 20:46:54,497 INFO sqlalchemy.engine.base.Engine BEGIN (implicit)\n"
       ]
      },
      {
       "output_type": "stream",
       "stream": "stderr",
       "text": [
        "INFO:sqlalchemy.engine.base.Engine:BEGIN (implicit)\n"
       ]
      },
      {
       "output_type": "stream",
       "stream": "stdout",
       "text": [
        "2015-04-16 20:46:54,499 INFO sqlalchemy.engine.base.Engine INSERT INTO nominations (name, fullname, password) VALUES (?, ?, ?)\n"
       ]
      },
      {
       "output_type": "stream",
       "stream": "stderr",
       "text": [
        "INFO:sqlalchemy.engine.base.Engine:INSERT INTO nominations (name, fullname, password) VALUES (?, ?, ?)\n"
       ]
      },
      {
       "output_type": "stream",
       "stream": "stdout",
       "text": [
        "2015-04-16 20:46:54,500 INFO sqlalchemy.engine.base.Engine ('Paul Ruvolo', 'Ed Jones', 'edspassword')\n"
       ]
      },
      {
       "output_type": "stream",
       "stream": "stderr",
       "text": [
        "INFO:sqlalchemy.engine.base.Engine:('Paul Ruvolo', 'Ed Jones', 'edspassword')\n"
       ]
      },
      {
       "output_type": "stream",
       "stream": "stdout",
       "text": [
        "2015-04-16 20:46:54,501 INFO sqlalchemy.engine.base.Engine SELECT nominations.id AS nominations_id, nominations.name AS nominations_name, nominations.fullname AS nominations_fullname, nominations.password AS nominations_password \n",
        "FROM nominations ORDER BY nominations.id\n"
       ]
      },
      {
       "output_type": "stream",
       "stream": "stderr",
       "text": [
        "INFO:sqlalchemy.engine.base.Engine:SELECT nominations.id AS nominations_id, nominations.name AS nominations_name, nominations.fullname AS nominations_fullname, nominations.password AS nominations_password \n",
        "FROM nominations ORDER BY nominations.id\n"
       ]
      },
      {
       "output_type": "stream",
       "stream": "stdout",
       "text": [
        "2015-04-16 20:46:54,502 INFO sqlalchemy.engine.base.Engine ()\n"
       ]
      },
      {
       "output_type": "stream",
       "stream": "stderr",
       "text": [
        "INFO:sqlalchemy.engine.base.Engine:()\n"
       ]
      },
      {
       "output_type": "stream",
       "stream": "stdout",
       "text": [
        "Paul Ruvolo Ed Jones\n"
       ]
      }
     ],
     "prompt_number": 33
    },
    {
     "cell_type": "code",
     "collapsed": false,
     "input": [],
     "language": "python",
     "metadata": {},
     "outputs": []
    }
   ],
   "metadata": {}
  }
 ]
}