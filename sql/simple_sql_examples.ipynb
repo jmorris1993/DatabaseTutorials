{
 "metadata": {
  "name": ""
 },
 "nbformat": 3,
 "nbformat_minor": 0,
 "worksheets": [
  {
   "cells": [
    {
     "cell_type": "markdown",
     "metadata": {},
     "source": [
      "Make sure you have followed the instructions [here](http://zetcode.com/db/mysqlpython/) to install mysql-server as well as the Python module MySQLdb.  Additionally, you should follow the instructions to setup a new SQL user called testuser with a password of 'test623'.  If you don't know what the mysql-server root password is, you can follow [these instructions](http://terokarvinen.com/2012/change-mysql-password-dpkg-reconfigure-mysql-server-5-1-ubuntu-debian-error-1045) to remedy the issue.  To make sure everything is good, try this Python code fragment."
     ]
    },
    {
     "cell_type": "code",
     "collapsed": false,
     "input": [
      "import MySQLdb as mdb\n",
      "\n",
      "try:\n",
      "    con = mdb.connect('localhost', 'testuser', 'test623', 'testdb');\n",
      "    cur = con.cursor()\n",
      "    cur.execute(\"SELECT VERSION()\")\n",
      "    ver = cur.fetchone()    \n",
      "    print \"Database version : %s \" % ver\n",
      "except mdb.Error, e:\n",
      "    print \"Error %d: %s\" % (e.args[0],e.args[1])"
     ],
     "language": "python",
     "metadata": {},
     "outputs": [
      {
       "ename": "ImportError",
       "evalue": "No module named MySQLdb",
       "output_type": "pyerr",
       "traceback": [
        "\u001b[0;31m---------------------------------------------------------------------------\u001b[0m\n\u001b[0;31mImportError\u001b[0m                               Traceback (most recent call last)",
        "\u001b[0;32m<ipython-input-1-307424f806a7>\u001b[0m in \u001b[0;36m<module>\u001b[0;34m()\u001b[0m\n\u001b[0;32m----> 1\u001b[0;31m \u001b[0;32mimport\u001b[0m \u001b[0mMySQLdb\u001b[0m \u001b[0;32mas\u001b[0m \u001b[0mmdb\u001b[0m\u001b[0;34m\u001b[0m\u001b[0m\n\u001b[0m\u001b[1;32m      2\u001b[0m \u001b[0;34m\u001b[0m\u001b[0m\n\u001b[1;32m      3\u001b[0m \u001b[0;32mtry\u001b[0m\u001b[0;34m:\u001b[0m\u001b[0;34m\u001b[0m\u001b[0m\n\u001b[1;32m      4\u001b[0m     \u001b[0mcon\u001b[0m \u001b[0;34m=\u001b[0m \u001b[0mmdb\u001b[0m\u001b[0;34m.\u001b[0m\u001b[0mconnect\u001b[0m\u001b[0;34m(\u001b[0m\u001b[0;34m'localhost'\u001b[0m\u001b[0;34m,\u001b[0m \u001b[0;34m'testuser'\u001b[0m\u001b[0;34m,\u001b[0m \u001b[0;34m'test623'\u001b[0m\u001b[0;34m,\u001b[0m \u001b[0;34m'testdb'\u001b[0m\u001b[0;34m)\u001b[0m\u001b[0;34m;\u001b[0m\u001b[0;34m\u001b[0m\u001b[0m\n\u001b[1;32m      5\u001b[0m     \u001b[0mcur\u001b[0m \u001b[0;34m=\u001b[0m \u001b[0mcon\u001b[0m\u001b[0;34m.\u001b[0m\u001b[0mcursor\u001b[0m\u001b[0;34m(\u001b[0m\u001b[0;34m)\u001b[0m\u001b[0;34m\u001b[0m\u001b[0m\n",
        "\u001b[0;31mImportError\u001b[0m: No module named MySQLdb"
       ]
      }
     ],
     "prompt_number": 1
    },
    {
     "cell_type": "code",
     "collapsed": false,
     "input": [],
     "language": "python",
     "metadata": {},
     "outputs": []
    }
   ],
   "metadata": {}
  }
 ]
}