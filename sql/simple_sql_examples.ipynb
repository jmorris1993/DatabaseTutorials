{
 "metadata": {
  "name": ""
 },
 "nbformat": 3,
 "nbformat_minor": 0,
 "worksheets": [
  {
   "cells": [
    {
     "cell_type": "markdown",
     "metadata": {},
     "source": [
      "Make sure you have followed the instructions [here](http://zetcode.com/db/mysqlpython/) to install mysql-server as well as the Python module MySQLdb.  Additionally, you should follow the instructions to setup a new SQL user called testuser with a password of 'test623'.  If you don't know what the mysql-server root password is, you can follow [these instructions](http://terokarvinen.com/2012/change-mysql-password-dpkg-reconfigure-mysql-server-5-1-ubuntu-debian-error-1045) to remedy the issue.  To make sure everything is good, try this Python code fragment that connects to the database you have configured and prints out the version of mysql server that you have installed."
     ]
    },
    {
     "cell_type": "code",
     "collapsed": false,
     "input": [
      "import MySQLdb as mdb\n",
      "\n",
      "try:\n",
      "    con = mdb.connect('localhost', 'testuser', 'test623', 'testdb');\n",
      "    cur = con.cursor()\n",
      "    cur.execute(\"SELECT VERSION()\")\n",
      "    ver = cur.fetchone()    \n",
      "    print \"Database version : %s \" % ver\n",
      "except mdb.Error, e:\n",
      "    print \"Error %d: %s\" % (e.args[0],e.args[1])"
     ],
     "language": "python",
     "metadata": {},
     "outputs": [
      {
       "output_type": "stream",
       "stream": "stdout",
       "text": [
        "Database version : 5.5.41-0ubuntu0.14.04.1 \n"
       ]
      }
     ],
     "prompt_number": 2
    },
    {
     "cell_type": "markdown",
     "metadata": {},
     "source": [
      "Next, let's list the tables that are currently in the database.  If you have already gone through the tutorial, you will see a table called \"Writers\"."
     ]
    },
    {
     "cell_type": "code",
     "collapsed": false,
     "input": [
      "cur.execute('SELECT * FROM TSABLES')\n",
      "print cur.fetchall()"
     ],
     "language": "python",
     "metadata": {},
     "outputs": []
    }
   ],
   "metadata": {}
  }
 ]
}